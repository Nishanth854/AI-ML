{
 "cells": [
  {
   "cell_type": "code",
   "execution_count": 1,
   "id": "2b4676cd-b8b7-4bb4-98c8-9952ca667201",
   "metadata": {},
   "outputs": [],
   "source": [
    "import numpy as np"
   ]
  },
  {
   "cell_type": "code",
   "execution_count": 2,
   "id": "cf10c520-1f3e-4639-9dbf-2fd274056979",
   "metadata": {},
   "outputs": [],
   "source": [
    "import pandas as pd\n"
   ]
  },
  {
   "cell_type": "code",
   "execution_count": 5,
   "id": "35a04504-5c45-4db4-9886-9f411d3ffa60",
   "metadata": {},
   "outputs": [],
   "source": [
    "np.random.seed(47)"
   ]
  },
  {
   "cell_type": "code",
   "execution_count": 6,
   "id": "7d753e72-8fbb-4f58-972f-627651b6001a",
   "metadata": {},
   "outputs": [],
   "source": [
    "employee=[f'epy_{i}'for i in range(1,31)]"
   ]
  },
  {
   "cell_type": "code",
   "execution_count": 8,
   "id": "1403d9d6-3baa-460b-a6e0-a918cd1370a3",
   "metadata": {},
   "outputs": [],
   "source": [
    "dates=pd.date_range(start=\"2025-07-01\",periods=30,freq=\"D\")"
   ]
  },
  {
   "cell_type": "code",
   "execution_count": 9,
   "id": "d67474fb-77ea-4900-a926-cb13e679660c",
   "metadata": {},
   "outputs": [
    {
     "data": {
      "text/plain": [
       "['epy_1',\n",
       " 'epy_2',\n",
       " 'epy_3',\n",
       " 'epy_4',\n",
       " 'epy_5',\n",
       " 'epy_6',\n",
       " 'epy_7',\n",
       " 'epy_8',\n",
       " 'epy_9',\n",
       " 'epy_10',\n",
       " 'epy_11',\n",
       " 'epy_12',\n",
       " 'epy_13',\n",
       " 'epy_14',\n",
       " 'epy_15',\n",
       " 'epy_16',\n",
       " 'epy_17',\n",
       " 'epy_18',\n",
       " 'epy_19',\n",
       " 'epy_20',\n",
       " 'epy_21',\n",
       " 'epy_22',\n",
       " 'epy_23',\n",
       " 'epy_24',\n",
       " 'epy_25',\n",
       " 'epy_26',\n",
       " 'epy_27',\n",
       " 'epy_28',\n",
       " 'epy_29',\n",
       " 'epy_30']"
      ]
     },
     "execution_count": 9,
     "metadata": {},
     "output_type": "execute_result"
    }
   ],
   "source": [
    "employee"
   ]
  },
  {
   "cell_type": "code",
   "execution_count": 10,
   "id": "97c95d6d-2d52-43a3-9a93-fe34abd8aa83",
   "metadata": {},
   "outputs": [],
   "source": [
    "data={\n",
    "    \"Date\":np.tile(dates,len(employee)),\n",
    "    \"employee_id\":np.repeat(employee,len(dates)),\n",
    "    \"working_hours\":np.random.normal(loc=30,scale=5,size=len(dates)*len(employee))\n",
    "}"
   ]
  },
  {
   "cell_type": "code",
   "execution_count": 11,
   "id": "888a56a7-3299-42d0-a701-7ab27ce06b3c",
   "metadata": {},
   "outputs": [],
   "source": [
    "df=pd.DataFrame(data)"
   ]
  },
  {
   "cell_type": "code",
   "execution_count": 12,
   "id": "96f72022-6ba7-49a1-a3d7-b53f1b86aa91",
   "metadata": {},
   "outputs": [
    {
     "data": {
      "text/html": [
       "<div>\n",
       "<style scoped>\n",
       "    .dataframe tbody tr th:only-of-type {\n",
       "        vertical-align: middle;\n",
       "    }\n",
       "\n",
       "    .dataframe tbody tr th {\n",
       "        vertical-align: top;\n",
       "    }\n",
       "\n",
       "    .dataframe thead th {\n",
       "        text-align: right;\n",
       "    }\n",
       "</style>\n",
       "<table border=\"1\" class=\"dataframe\">\n",
       "  <thead>\n",
       "    <tr style=\"text-align: right;\">\n",
       "      <th></th>\n",
       "      <th>Date</th>\n",
       "      <th>employee_id</th>\n",
       "      <th>working_hours</th>\n",
       "    </tr>\n",
       "  </thead>\n",
       "  <tbody>\n",
       "    <tr>\n",
       "      <th>0</th>\n",
       "      <td>2025-07-01</td>\n",
       "      <td>epy_1</td>\n",
       "      <td>25.759953</td>\n",
       "    </tr>\n",
       "    <tr>\n",
       "      <th>1</th>\n",
       "      <td>2025-07-02</td>\n",
       "      <td>epy_1</td>\n",
       "      <td>36.529532</td>\n",
       "    </tr>\n",
       "    <tr>\n",
       "      <th>2</th>\n",
       "      <td>2025-07-03</td>\n",
       "      <td>epy_1</td>\n",
       "      <td>34.621040</td>\n",
       "    </tr>\n",
       "    <tr>\n",
       "      <th>3</th>\n",
       "      <td>2025-07-04</td>\n",
       "      <td>epy_1</td>\n",
       "      <td>33.202059</td>\n",
       "    </tr>\n",
       "    <tr>\n",
       "      <th>4</th>\n",
       "      <td>2025-07-05</td>\n",
       "      <td>epy_1</td>\n",
       "      <td>24.726315</td>\n",
       "    </tr>\n",
       "    <tr>\n",
       "      <th>...</th>\n",
       "      <td>...</td>\n",
       "      <td>...</td>\n",
       "      <td>...</td>\n",
       "    </tr>\n",
       "    <tr>\n",
       "      <th>895</th>\n",
       "      <td>2025-07-26</td>\n",
       "      <td>epy_30</td>\n",
       "      <td>43.258695</td>\n",
       "    </tr>\n",
       "    <tr>\n",
       "      <th>896</th>\n",
       "      <td>2025-07-27</td>\n",
       "      <td>epy_30</td>\n",
       "      <td>33.433610</td>\n",
       "    </tr>\n",
       "    <tr>\n",
       "      <th>897</th>\n",
       "      <td>2025-07-28</td>\n",
       "      <td>epy_30</td>\n",
       "      <td>28.698934</td>\n",
       "    </tr>\n",
       "    <tr>\n",
       "      <th>898</th>\n",
       "      <td>2025-07-29</td>\n",
       "      <td>epy_30</td>\n",
       "      <td>26.602264</td>\n",
       "    </tr>\n",
       "    <tr>\n",
       "      <th>899</th>\n",
       "      <td>2025-07-30</td>\n",
       "      <td>epy_30</td>\n",
       "      <td>27.682973</td>\n",
       "    </tr>\n",
       "  </tbody>\n",
       "</table>\n",
       "<p>900 rows × 3 columns</p>\n",
       "</div>"
      ],
      "text/plain": [
       "          Date employee_id  working_hours\n",
       "0   2025-07-01       epy_1      25.759953\n",
       "1   2025-07-02       epy_1      36.529532\n",
       "2   2025-07-03       epy_1      34.621040\n",
       "3   2025-07-04       epy_1      33.202059\n",
       "4   2025-07-05       epy_1      24.726315\n",
       "..         ...         ...            ...\n",
       "895 2025-07-26      epy_30      43.258695\n",
       "896 2025-07-27      epy_30      33.433610\n",
       "897 2025-07-28      epy_30      28.698934\n",
       "898 2025-07-29      epy_30      26.602264\n",
       "899 2025-07-30      epy_30      27.682973\n",
       "\n",
       "[900 rows x 3 columns]"
      ]
     },
     "execution_count": 12,
     "metadata": {},
     "output_type": "execute_result"
    }
   ],
   "source": [
    "df"
   ]
  },
  {
   "cell_type": "code",
   "execution_count": 28,
   "id": "4952050a-52cc-4333-ae8c-aa16ef098a5a",
   "metadata": {},
   "outputs": [
    {
     "data": {
      "text/plain": [
       "Date             2025-07-26 00:00:00\n",
       "employee_id                    epy_1\n",
       "working_hours              34.537222\n",
       "Name: 25, dtype: object"
      ]
     },
     "execution_count": 28,
     "metadata": {},
     "output_type": "execute_result"
    }
   ],
   "source": [
    "row=df.iloc[25]\n",
    "row"
   ]
  },
  {
   "cell_type": "code",
   "execution_count": 15,
   "id": "428f17c8-e212-44e6-b2e1-b3b159a1ab79",
   "metadata": {},
   "outputs": [],
   "source": [
    " df.to_csv(\"employee_working_hours.csv\",index=False)"
   ]
  },
  {
   "cell_type": "code",
   "execution_count": 17,
   "id": "4907e245-791a-4fa5-8906-359ce85bb675",
   "metadata": {},
   "outputs": [],
   "source": [
    "df_csv = pd.read_csv(\"employee_working_hours.csv\")"
   ]
  },
  {
   "cell_type": "code",
   "execution_count": 18,
   "id": "1ca83493-a4e2-4d60-b88e-6be874107893",
   "metadata": {},
   "outputs": [
    {
     "data": {
      "text/html": [
       "<div>\n",
       "<style scoped>\n",
       "    .dataframe tbody tr th:only-of-type {\n",
       "        vertical-align: middle;\n",
       "    }\n",
       "\n",
       "    .dataframe tbody tr th {\n",
       "        vertical-align: top;\n",
       "    }\n",
       "\n",
       "    .dataframe thead th {\n",
       "        text-align: right;\n",
       "    }\n",
       "</style>\n",
       "<table border=\"1\" class=\"dataframe\">\n",
       "  <thead>\n",
       "    <tr style=\"text-align: right;\">\n",
       "      <th></th>\n",
       "      <th>Date</th>\n",
       "      <th>employee_id</th>\n",
       "      <th>working_hours</th>\n",
       "    </tr>\n",
       "  </thead>\n",
       "  <tbody>\n",
       "    <tr>\n",
       "      <th>0</th>\n",
       "      <td>2025-07-01</td>\n",
       "      <td>epy_1</td>\n",
       "      <td>25.759953</td>\n",
       "    </tr>\n",
       "    <tr>\n",
       "      <th>1</th>\n",
       "      <td>2025-07-02</td>\n",
       "      <td>epy_1</td>\n",
       "      <td>36.529532</td>\n",
       "    </tr>\n",
       "    <tr>\n",
       "      <th>2</th>\n",
       "      <td>2025-07-03</td>\n",
       "      <td>epy_1</td>\n",
       "      <td>34.621040</td>\n",
       "    </tr>\n",
       "    <tr>\n",
       "      <th>3</th>\n",
       "      <td>2025-07-04</td>\n",
       "      <td>epy_1</td>\n",
       "      <td>33.202059</td>\n",
       "    </tr>\n",
       "    <tr>\n",
       "      <th>4</th>\n",
       "      <td>2025-07-05</td>\n",
       "      <td>epy_1</td>\n",
       "      <td>24.726315</td>\n",
       "    </tr>\n",
       "    <tr>\n",
       "      <th>...</th>\n",
       "      <td>...</td>\n",
       "      <td>...</td>\n",
       "      <td>...</td>\n",
       "    </tr>\n",
       "    <tr>\n",
       "      <th>895</th>\n",
       "      <td>2025-07-26</td>\n",
       "      <td>epy_30</td>\n",
       "      <td>43.258695</td>\n",
       "    </tr>\n",
       "    <tr>\n",
       "      <th>896</th>\n",
       "      <td>2025-07-27</td>\n",
       "      <td>epy_30</td>\n",
       "      <td>33.433610</td>\n",
       "    </tr>\n",
       "    <tr>\n",
       "      <th>897</th>\n",
       "      <td>2025-07-28</td>\n",
       "      <td>epy_30</td>\n",
       "      <td>28.698934</td>\n",
       "    </tr>\n",
       "    <tr>\n",
       "      <th>898</th>\n",
       "      <td>2025-07-29</td>\n",
       "      <td>epy_30</td>\n",
       "      <td>26.602264</td>\n",
       "    </tr>\n",
       "    <tr>\n",
       "      <th>899</th>\n",
       "      <td>2025-07-30</td>\n",
       "      <td>epy_30</td>\n",
       "      <td>27.682973</td>\n",
       "    </tr>\n",
       "  </tbody>\n",
       "</table>\n",
       "<p>900 rows × 3 columns</p>\n",
       "</div>"
      ],
      "text/plain": [
       "           Date employee_id  working_hours\n",
       "0    2025-07-01       epy_1      25.759953\n",
       "1    2025-07-02       epy_1      36.529532\n",
       "2    2025-07-03       epy_1      34.621040\n",
       "3    2025-07-04       epy_1      33.202059\n",
       "4    2025-07-05       epy_1      24.726315\n",
       "..          ...         ...            ...\n",
       "895  2025-07-26      epy_30      43.258695\n",
       "896  2025-07-27      epy_30      33.433610\n",
       "897  2025-07-28      epy_30      28.698934\n",
       "898  2025-07-29      epy_30      26.602264\n",
       "899  2025-07-30      epy_30      27.682973\n",
       "\n",
       "[900 rows x 3 columns]"
      ]
     },
     "execution_count": 18,
     "metadata": {},
     "output_type": "execute_result"
    }
   ],
   "source": [
    "df_csv"
   ]
  },
  {
   "cell_type": "code",
   "execution_count": 19,
   "id": "be9542cf-139d-48a4-9470-7061e63b641a",
   "metadata": {},
   "outputs": [
    {
     "name": "stdout",
     "output_type": "stream",
     "text": [
      "         Date employee_id  working_hours\n",
      "0  2025-07-01       epy_1      25.759953\n",
      "1  2025-07-02       epy_1      36.529532\n",
      "2  2025-07-03       epy_1      34.621040\n",
      "3  2025-07-04       epy_1      33.202059\n",
      "4  2025-07-05       epy_1      24.726315\n",
      "       working_hours\n",
      "count     900.000000\n",
      "mean       30.181230\n",
      "std         4.930986\n",
      "min        15.660535\n",
      "25%        26.855881\n",
      "50%        30.207036\n",
      "75%        33.322614\n",
      "max        44.760327\n",
      "30\n"
     ]
    }
   ],
   "source": [
    "print(df_csv.head())\n",
    "print(df_csv.describe())\n",
    "print(df_csv[\"employee_id\"].nunique())"
   ]
  },
  {
   "cell_type": "code",
   "execution_count": 21,
   "id": "fb4ea6be-f882-4f22-bc87-7bd5fed99748",
   "metadata": {},
   "outputs": [
    {
     "name": "stdout",
     "output_type": "stream",
     "text": [
      "employee_id\n",
      "epy_11    952.602286\n",
      "epy_3     939.470828\n",
      "epy_29    932.026009\n",
      "epy_4     931.591632\n",
      "epy_13    930.943932\n",
      "epy_12    926.304226\n",
      "epy_30    925.597182\n",
      "epy_26    925.333328\n",
      "epy_27    922.724076\n",
      "epy_5     921.063223\n",
      "epy_20    919.201315\n",
      "epy_14    915.925813\n",
      "epy_8     912.221414\n",
      "epy_24    912.192925\n",
      "epy_15    912.176374\n",
      "epy_16    909.512716\n",
      "epy_23    908.951959\n",
      "epy_25    907.468284\n",
      "epy_17    906.605665\n",
      "epy_6     905.785698\n",
      "epy_19    890.754459\n",
      "epy_9     889.782432\n",
      "epy_22    886.606428\n",
      "epy_1     881.760238\n",
      "epy_10    870.467638\n",
      "epy_7     869.856979\n",
      "epy_2     868.543587\n",
      "epy_28    867.084009\n",
      "epy_18    860.957995\n",
      "epy_21    859.594760\n",
      "Name: working_hours, dtype: float64\n"
     ]
    }
   ],
   "source": [
    "total_hours = df_csv.groupby(\"employee_id\")[\"working_hours\"].sum().sort_values(ascending=False)\n",
    "print(total_hours)"
   ]
  },
  {
   "cell_type": "code",
   "execution_count": 22,
   "id": "923e9e34-6f1f-48b1-b418-0eb3e0a238b9",
   "metadata": {},
   "outputs": [],
   "source": [
    "avg_daily = df_csv.groupby(\"employee_id\")[\"working_hours\"].mean()"
   ]
  },
  {
   "cell_type": "code",
   "execution_count": 23,
   "id": "8cc83679-57c6-409a-a8bf-251412d686c6",
   "metadata": {},
   "outputs": [
    {
     "name": "stdout",
     "output_type": "stream",
     "text": [
      "         Date employee_id  working_hours  low_hours_flag  high_hours_flag\n",
      "0  2025-07-01       epy_1      25.759953           False             True\n",
      "1  2025-07-02       epy_1      36.529532           False             True\n",
      "2  2025-07-03       epy_1      34.621040           False             True\n",
      "3  2025-07-04       epy_1      33.202059           False             True\n",
      "4  2025-07-05       epy_1      24.726315           False             True\n"
     ]
    }
   ],
   "source": [
    "threshold_low =5\n",
    "threshold_high = 9\n",
    "df_csv[\"low_hours_flag\"] = df_csv[\"working_hours\"] < threshold_low\n",
    "df_csv[\"high_hours_flag\"] = df_csv[\"working_hours\"] > threshold_high\n",
    "\n",
    "print(df_csv[df_csv[\"low_hours_flag\"] | df_csv[\"high_hours_flag\"]].head())"
   ]
  },
  {
   "cell_type": "code",
   "execution_count": 27,
   "id": "ba3b2ef1-d211-46e5-9d20-f8a4e5909d80",
   "metadata": {},
   "outputs": [
    {
     "data": {
      "image/png": "[encoded data removed]",
      "text/plain": [
       "<Figure size 1000x500 with 1 Axes>"
      ]
     },
     "metadata": {},
     "output_type": "display_data"
    }
   ],
   "source": [
    "import matplotlib.pyplot as plt\n",
    "import seaborn as sns\n",
    "\n",
    "top10 = total_hours.head(10)\n",
    "plt.figure(figsize=(10,5))\n",
    "sns.barplot(x=top10.index, y=top10.values)\n",
    "plt.xticks(rotation=45)\n",
    "plt.title(\"Top 10 emplouyees by total working hours\")\n",
    "plt.ylabel(\"Hours\")\n",
    "plt.tight_layout()\n",
    "plt.show()"
   ]
  },
  {
   "cell_type": "code",
   "execution_count": null,
   "id": "060c1062-bdf4-4a0c-8781-3f640dcd33fb",
   "metadata": {},
   "outputs": [],
   "source": [
    "Grade = df.loc[(df[\"\"] == \"\" )]"
   ]
  }
 ],
 "metadata": {
  "kernelspec": {
   "display_name": "Python [conda env:base] *",
   "language": "python",
   "name": "conda-base-py"
  },
  "language_info": {
   "codemirror_mode": {
    "name": "ipython",
    "version": 3
   },
   "file_extension": ".py",
   "mimetype": "text/x-python",
   "name": "python",
   "nbconvert_exporter": "python",
   "pygments_lexer": "ipython3",
   "version": "3.13.5"
  }
 },
 "nbformat": 4,
 "nbformat_minor": 5
}
