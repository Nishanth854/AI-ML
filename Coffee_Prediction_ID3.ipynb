{
 "cells": [
  {
   "cell_type": "markdown",
   "id": "e930a8a3",
   "metadata": {},
   "source": [
    "# ☕ Coffee Purchase Prediction Using Decision Tree (ID3 Algorithm)"
   ]
  },
  {
   "cell_type": "code",
   "execution_count": null,
   "id": "b2771f11",
   "metadata": {},
   "outputs": [],
   "source": [
    "import pandas as pd\n",
    "\n",
    "data = {\n",
    "    'Weather': ['Sunny', 'Rainy', 'Overcast', 'Sunny', 'Rainy', 'Sunny', 'Overcast', 'Rainy', 'Sunny', 'Rainy'],\n",
    "    'TimeOfDay': ['Morning', 'Morning', 'Afternoon', 'Afternoon', 'Evening', 'Morning', 'Morning', 'Afternoon', 'Evening', 'Morning'],\n",
    "    'SleepQuality': ['Poor', 'Good', 'Poor', 'Good', 'Poor', 'Good', 'Poor', 'Good', 'Good', 'Poor'],\n",
    "    'Mood': ['Tired', 'Fresh', 'Tired', 'Energetic', 'Tired', 'Fresh', 'Tired', 'Tired', 'Energetic', 'Tired'],\n",
    "    'BuyCoffee': ['Yes', 'No', 'Yes', 'No', 'Yes', 'No', 'Yes', 'Yes', 'No', 'Yes']\n",
    "}\n",
    "\n",
    "df = pd.DataFrame(data)\n",
    "df"
   ]
  },
  {
   "cell_type": "code",
   "execution_count": null,
   "id": "3e1b85c7",
   "metadata": {},
   "outputs": [],
   "source": [
    "from sklearn.tree import DecisionTreeClassifier, plot_tree\n",
    "import matplotlib.pyplot as plt\n",
    "\n",
    "df_encoded = pd.get_dummies(df.drop('BuyCoffee', axis=1))\n",
    "target = df['BuyCoffee'].map({'Yes': 1, 'No': 0})\n",
    "\n",
    "model = DecisionTreeClassifier(criterion='entropy')\n",
    "model.fit(df_encoded, target)\n"
   ]
  },
  {
   "cell_type": "code",
   "execution_count": null,
   "id": "04bdfe8f",
   "metadata": {},
   "outputs": [],
   "source": [
    "plt.figure(figsize=(18, 8))\n",
    "plot_tree(model, feature_names=df_encoded.columns, class_names=[\"No\", \"Yes\"], filled=True)\n",
    "plt.show()"
   ]
  },
  {
   "cell_type": "code",
   "execution_count": null,
   "id": "862ee657",
   "metadata": {},
   "outputs": [],
   "source": [
    "input_data = pd.DataFrame([{\n",
    "    'Weather_Overcast': 0,\n",
    "    'Weather_Rainy': 1,\n",
    "    'Weather_Sunny': 0,\n",
    "    'TimeOfDay_Afternoon': 0,\n",
    "    'TimeOfDay_Evening': 0,\n",
    "    'TimeOfDay_Morning': 1,\n",
    "    'SleepQuality_Good': 0,\n",
    "    'SleepQuality_Poor': 1,\n",
    "    'Mood_Energetic': 0,\n",
    "    'Mood_Fresh': 0,\n",
    "    'Mood_Tired': 1\n",
    "}])\n",
    "\n",
    "prediction = model.predict(input_data)[0]\n",
    "'Prediction: Buy Coffee' if prediction == 1 else 'Prediction: Do Not Buy Coffee'"
   ]
  }
 ],
 "metadata": {},
 "nbformat": 4,
 "nbformat_minor": 5
}
