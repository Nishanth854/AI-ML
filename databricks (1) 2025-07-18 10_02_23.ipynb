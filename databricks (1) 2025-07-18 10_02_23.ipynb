{
 "cells": [
  {
   "cell_type": "code",
   "execution_count": 0,
   "metadata": {
    "application/vnd.databricks.v1+cell": {
     "cellMetadata": {
      "byteLimit": 2048000,
      "rowLimit": 10000
     },
     "inputWidgets": {},
     "nuid": "f0cdec63-2091-4aad-8e44-2ea328e90417",
     "showTitle": false,
     "tableResultSettingsMap": {},
     "title": ""
    }
   },
   "outputs": [
    {
     "output_type": "stream",
     "name": "stdout",
     "output_type": "stream",
     "text": [
      "+---+---------+--------+------+\n| id|firstname|lastname|salary|\n+---+---------+--------+------+\n|  1|   sravan|   kumar| 10000|\n|  2|   ramana|   kumar| 20000|\n+---+---------+--------+------+\n\n"
     ]
    }
   ],
   "source": [
    "from pyspark.sql import SparkSession\n",
    "spark = SparkSession.builder.appName(\"PySparkExample\").getOrCreate()\n",
    "data =[(1,\"sravan\",\"kumar\",10000),(2,\"ramana\",\"kumar\",20000),]\n",
    "schema = [\"id\",\"firstname\",\"lastname\",\"salary\"]\n",
    "df = spark.createDataFrame(data=data, schema = schema)\n",
    "df.show()                                                        "
   ]
  },
  {
   "cell_type": "code",
   "execution_count": 0,
   "metadata": {
    "application/vnd.databricks.v1+cell": {
     "cellMetadata": {
      "byteLimit": 2048000,
      "rowLimit": 10000
     },
     "inputWidgets": {},
     "nuid": "2e74336d-7723-479e-bd01-056efb5635f2",
     "showTitle": false,
     "tableResultSettingsMap": {},
     "title": ""
    }
   },
   "outputs": [
    {
     "output_type": "stream",
     "name": "stdout",
     "output_type": "stream",
     "text": [
      "+---+-------+-----------+------+\n| ID|   Name| Department|Salary|\n+---+-------+-----------+------+\n|  1|  Alice|Engineering| 65000|\n|  2|    Bob|  Marketing| 58000|\n|  3|Charlie|      Sales| 52000|\n|  4|  David|Engineering| 72000|\n|  5|    Eve|      Sales| 54000|\n+---+-------+-----------+------+\n\nroot\n |-- ID: long (nullable = true)\n |-- Name: string (nullable = true)\n |-- Department: string (nullable = true)\n |-- Salary: long (nullable = true)\n\n+---+-----+-----------+------+\n| ID| Name| Department|Salary|\n+---+-----+-----------+------+\n|  1|Alice|Engineering| 65000|\n|  4|David|Engineering| 72000|\n+---+-----+-----------+------+\n\n+-----------+-----+\n| Department|count|\n+-----------+-----+\n|Engineering|    2|\n|  Marketing|    1|\n|      Sales|    2|\n+-----------+-----+\n\n"
     ]
    }
   ],
   "source": [
    "from pyspark.sql import SparkSession \n",
    " \n",
    "spark = SparkSession.builder.appName(\"StudentAssignment\").getOrCreate() \n",
    " \n",
    "#sample employee data \n",
    "data = [ (1, \"Alice\", \"Engineering\", 65000), \n",
    "    (2, \"Bob\", \"Marketing\", 58000), \n",
    "    (3, \"Charlie\", \"Sales\", 52000), \n",
    "    (4, \"David\", \"Engineering\", 72000), \n",
    "    (5, \"Eve\", \"Sales\", 54000) \n",
    "] \n",
    " \n",
    "schema = [\"ID\", \"Name\", \"Department\", \"Salary\"] \n",
    "df = spark.createDataFrame(data, schema=schema) \n",
    "df.show() \n",
    " \n",
    "#Show schema \n",
    "df.printSchema() \n",
    " \n",
    "# Filter: Salary > 60000 \n",
    "df.filter(df[\"Salary\"] > 60000).show() \n",
    " \n",
    "# Group by Department \n",
    "df.groupBy(\"Department\").count().show() \n",
    " \n",
    "# Average Salary by Department df.groupBy(\"Department\").avg(\"Salary\").show() \n"
   ]
  }
 ],
 "metadata": {
  "application/vnd.databricks.v1+notebook": {
   "computePreferences": null,
   "dashboards": [],
   "environmentMetadata": {
    "base_environment": "",
    "environment_version": "2"
   },
   "inputWidgetPreferences": null,
   "language": "python",
   "notebookMetadata": {
    "pythonIndentUnit": 4
   },
   "notebookName": "databricks (1) 2025-07-18 10:02:23",
   "widgets": {}
  },
  "language_info": {
   "name": "python"
  }
 },
 "nbformat": 4,
 "nbformat_minor": 0
}